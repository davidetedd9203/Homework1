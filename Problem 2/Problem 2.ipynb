{
 "cells": [
  {
   "cell_type": "markdown",
   "metadata": {},
   "source": [
    "### Birthday Cake Candles"
   ]
  },
  {
   "cell_type": "code",
   "execution_count": null,
   "metadata": {},
   "outputs": [],
   "source": [
    "def birthdayCakeCandles(candles):\n",
    "    tallest = max(candles)\n",
    "    return sum(map(lambda x:x == tallest,candles))\n",
    "\n",
    "if __name__ == '__main__':\n",
    "    fptr = open(os.environ['OUTPUT_PATH'], 'w')\n",
    "\n",
    "    candles_count = int(input().strip())\n",
    "\n",
    "    candles = list(map(int, input().rstrip().split()))"
   ]
  },
  {
   "cell_type": "markdown",
   "metadata": {},
   "source": [
    "### Number Line Jumps"
   ]
  },
  {
   "cell_type": "code",
   "execution_count": null,
   "metadata": {},
   "outputs": [],
   "source": [
    "def kangaroo(x1, v1, x2, v2):\n",
    "    if ((x2 - x1) * (v2 - v1) < 0 and (x2 - x1) % (v2 - v1) == 0):\n",
    "        return \"YES\"\n",
    "    else:\n",
    "        return \"NO\"\n",
    "\n",
    "if __name__ == '__main__':\n",
    "    fptr = open(os.environ['OUTPUT_PATH'], 'w')\n",
    "\n",
    "    x1V1X2V2 = input().split()\n",
    "\n",
    "    x1 = int(x1V1X2V2[0])\n",
    "\n",
    "    v1 = int(x1V1X2V2[1])\n",
    "\n",
    "    x2 = int(x1V1X2V2[2])\n",
    "\n",
    "    v2 = int(x1V1X2V2[3])\n",
    "\n",
    "    result = kangaroo(x1, v1, x2, v2)\n",
    "\n",
    "    fptr.write(result + '\\n')\n",
    "\n",
    "    fptr.close()\n"
   ]
  },
  {
   "cell_type": "markdown",
   "metadata": {},
   "source": [
    "### Viral Advertising"
   ]
  },
  {
   "cell_type": "code",
   "execution_count": null,
   "metadata": {},
   "outputs": [],
   "source": [
    "def viralAdvertising(n):\n",
    "    people = 5\n",
    "    sum = 0\n",
    "    for i in range(n):\n",
    "        people = people//2;\n",
    "        sum += people;\n",
    "        people *= 3;\n",
    "    return sum    \n",
    "        \n",
    "\n",
    "if __name__ == '__main__':\n",
    "    fptr = open(os.environ['OUTPUT_PATH'], 'w')\n",
    "\n",
    "    n = int(input())\n",
    "\n",
    "    result = viralAdvertising(n)\n",
    "\n",
    "    fptr.write(str(result) + '\\n')\n",
    "\n",
    "    fptr.close()\n"
   ]
  },
  {
   "cell_type": "markdown",
   "metadata": {},
   "source": [
    "### Recursive Digit sum"
   ]
  },
  {
   "cell_type": "code",
   "execution_count": null,
   "metadata": {},
   "outputs": [],
   "source": [
    "def superDigit(n, k):\n",
    "    string = int(n)*k\n",
    "    to_sum = string % 9\n",
    "    return to_sum or 9\n",
    "if __name__ == '__main__':\n",
    "    fptr = open(os.environ['OUTPUT_PATH'], 'w')\n",
    "\n",
    "    nk = input().split()\n",
    "\n",
    "    n = nk[0]\n",
    "\n",
    "    k = int(nk[1])\n",
    "\n",
    "    result = superDigit(n, k)\n",
    "\n",
    "    fptr.write(str(result) + '\\n')\n",
    "\n",
    "    fptr.close()\n"
   ]
  },
  {
   "cell_type": "markdown",
   "metadata": {},
   "source": [
    "### Insertion Sort - Part 1"
   ]
  },
  {
   "cell_type": "code",
   "execution_count": null,
   "metadata": {},
   "outputs": [],
   "source": [
    "def insertionSort1(n, arr):\n",
    "    to_shift = arr[n - 1]\n",
    "    #print(\"to_shift:\",to_shift)\n",
    "    for i in sorted(list(range(n)),reverse =True):\n",
    "        if to_shift < arr[i - 1] and i > 0:\n",
    "            arr[i] = arr[i-1]\n",
    "            print(*arr,sep = \" \")\n",
    "        else:\n",
    "            arr[i] = to_shift\n",
    "            break\n",
    "    print(*arr,sep = \" \")\n",
    "\n",
    "if __name__ == '__main__':\n",
    "    n = int(input())\n",
    "\n",
    "    arr = list(map(int, input().rstrip().split()))\n",
    "\n",
    "    insertionSort1(n, arr)\n"
   ]
  },
  {
   "cell_type": "markdown",
   "metadata": {},
   "source": []
  }
 ],
 "metadata": {
  "kernelspec": {
   "display_name": "Python 3",
   "language": "python",
   "name": "python3"
  },
  "language_info": {
   "codemirror_mode": {
    "name": "ipython",
    "version": 3
   },
   "file_extension": ".py",
   "mimetype": "text/x-python",
   "name": "python",
   "nbconvert_exporter": "python",
   "pygments_lexer": "ipython3",
   "version": "3.7.6"
  }
 },
 "nbformat": 4,
 "nbformat_minor": 4
}
